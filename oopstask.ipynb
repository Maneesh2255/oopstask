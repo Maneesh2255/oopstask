{
 "cells": [
  {
   "cell_type": "code",
   "execution_count": 26,
   "id": "998f217b",
   "metadata": {},
   "outputs": [
    {
     "name": "stdout",
     "output_type": "stream",
     "text": [
      "Vehicle Name: Toyota Camry\n",
      "Max Speed: 180 kmh\n",
      "Average of vehicle: 20 kml\n"
     ]
    }
   ],
   "source": [
    "#Q1\n",
    "\n",
    "class Vehicle:\n",
    "    def __init__(self, name_of_vehicle, max_speed, average_of_vehicle):\n",
    "        self.name_of_vehicle = name_of_vehicle\n",
    "        self.max_speed = max_speed\n",
    "        self.average_of_vehicle = average_of_vehicle\n",
    "\n",
    "    def __str__(self):\n",
    "        return f\"Vehicle Name: {self.name_of_vehicle}\\nMax Speed: {self.max_speed} kmh\\nAverage of vehicle: {self.average_of_vehicle} kml\"\n",
    "\n",
    "# Example usage:\n",
    "car = Vehicle(\"Toyota Camry\", 180, 20)\n",
    "print(car)"
   ]
  },
  {
   "cell_type": "code",
   "execution_count": 35,
   "id": "36b5608d",
   "metadata": {},
   "outputs": [
    {
     "name": "stdout",
     "output_type": "stream",
     "text": [
      "Toyota Camry has a seating capacity of 5 people.\n"
     ]
    }
   ],
   "source": [
    "#Q2\n",
    "\n",
    "class Vehicle:\n",
    "    def __init__(self, name_of_vehicle, max_speed, average_of_vehicle):\n",
    "        self.name_of_vehicle = name_of_vehicle\n",
    "        self.max_speed = max_speed\n",
    "        self.average_of_vehicle = average_of_vehicle\n",
    "\n",
    "class Car(Vehicle):\n",
    "    def __init__(self, name_of_vehicle, max_speed, average_of_vehicle):\n",
    "        # Call the constructor of the parent class (Vehicle)\n",
    "        super().__init__(name_of_vehicle, max_speed, average_of_vehicle)\n",
    "\n",
    "    def seating_capacity(self, capacity):\n",
    "        return f\"{self.name_of_vehicle} has a seating capacity of {capacity} people.\"\n",
    "\n",
    "# Example usage:\n",
    "car = Car(\"Toyota Camry\", 120, 60)\n",
    "capacity = 5\n",
    "print(car.seating_capacity(capacity))"
   ]
  },
  {
   "cell_type": "code",
   "execution_count": 37,
   "id": "f279f283",
   "metadata": {},
   "outputs": [
    {
     "name": "stdout",
     "output_type": "stream",
     "text": [
      "this is class2\n"
     ]
    }
   ],
   "source": [
    "#Q3\n",
    "\"\"\"\n",
    "Multiple inheritance is a feature in object-oriented programming where a \n",
    "class can inherit attributes and methods from more than one parent class.\n",
    "In short, it allows a child class to inherit from multiple parent classes,\n",
    "enabling it to access and use the features (attributes and methods) of all\n",
    "its parent classes. This can lead to complex class hierarchies and can \n",
    "introduce challenges related to method resolution and conflicts if not\n",
    "managed carefully.\n",
    "\"\"\"\n",
    "class class1:\n",
    "    def test_class1(self):\n",
    "        return \"this is class1\"\n",
    "\n",
    "class class2:\n",
    "    def test_class2(self):\n",
    "        return \"this is class2\"\n",
    "    \n",
    "class class3(class1,class2):\n",
    "    pass\n",
    "\n",
    "obj_class3=class3()\n",
    "print(obj_class3.test_class2())"
   ]
  },
  {
   "cell_type": "code",
   "execution_count": 18,
   "id": "36802d82",
   "metadata": {},
   "outputs": [
    {
     "name": "stdout",
     "output_type": "stream",
     "text": [
      "name: maneesh\n",
      "age: 22\n",
      "name:bob\n",
      "age:25\n"
     ]
    }
   ],
   "source": [
    "#Q4\n",
    "\"\"\"\n",
    "In Python, getters are methods used to retrieve the value of an object's\n",
    "attribute, and setters are methods used to change or set the value of an \n",
    "object's attribute. They are often used to control access to object data \n",
    "and can include validation or additional logic. Getter methods typically \n",
    "have names like `get_attribute`, and setter methods have names like `\n",
    "set_attribute`.\n",
    "\"\"\"\n",
    "class student:\n",
    "    def __init__(self,name,age):\n",
    "        self.name=name                #private attributes\n",
    "        self.age=age                  #private attributes\n",
    "    \n",
    "    #getting method for the name attribute\n",
    "    def get_name(self):\n",
    "        return self.name\n",
    "    \n",
    "    #setter method for the name attribute\n",
    "    def set_name(self,name):\n",
    "        if isinstance(name,str):\n",
    "            self.name=name\n",
    "            \n",
    "        else:\n",
    "            print(\"invalid name format . please provide a string\")\n",
    "            \n",
    "    #getter method for age attribute\n",
    "    def get_age(self):\n",
    "        return self.age\n",
    "    \n",
    "    #setter for age attribute\n",
    "    def set_age(self,age):\n",
    "        if isinstance(age,int) and age >=0:\n",
    "            self.age=age\n",
    "        \n",
    "        else:\n",
    "            print(\"invalid age. please give non-negative age\")\n",
    "student1=student(\"maneesh\",22)\n",
    "print(\"name:\",student1.get_name())\n",
    "print(\"age:\",student1.get_age())\n",
    "#update the attribute\n",
    "student1.set_name(\"bob\")\n",
    "student1.set_age(25)\n",
    "#display updated value\n",
    "print(f\"name:{student1.get_name()}\\nage:{student1.get_age()}\")\n",
    "\n",
    "\n"
   ]
  },
  {
   "cell_type": "code",
   "execution_count": 22,
   "id": "1cbf82de",
   "metadata": {},
   "outputs": [
    {
     "name": "stdout",
     "output_type": "stream",
     "text": [
      "animal speak\n",
      "Dog barks\n",
      "cat meows\n"
     ]
    }
   ],
   "source": [
    "#Q5\n",
    "\"\"\"\n",
    "Method overriding in Python is a feature of object-oriented programming where\n",
    "a subclass provides a specific implementation for a method that is already\n",
    "defined in its superclass. When a subclass overrides a method, the subclass's\n",
    "implementation of the method takes precedence over the superclass's\n",
    "implementation.\n",
    "\"\"\"\n",
    "class animal:\n",
    "    def speak(self):\n",
    "        print(\"animal speak\")\n",
    "        \n",
    "class dog(animal):\n",
    "    def speak(self):\n",
    "        print(\"Dog barks\")\n",
    "        \n",
    "class cat(animal):\n",
    "    def speak(self):\n",
    "        print(\"cat meows\")\n",
    "        \n",
    "# Creat instances of the classes\n",
    "animal =animal()\n",
    "dog=dog()\n",
    "cat=cat()\n",
    "#Call the speak method\n",
    "animal.speak()\n",
    "dog.speak()\n",
    "cat.speak()\n",
    "    \n"
   ]
  },
  {
   "cell_type": "code",
   "execution_count": null,
   "id": "70c1f504",
   "metadata": {},
   "outputs": [],
   "source": []
  }
 ],
 "metadata": {
  "kernelspec": {
   "display_name": "Python 3 (ipykernel)",
   "language": "python",
   "name": "python3"
  },
  "language_info": {
   "codemirror_mode": {
    "name": "ipython",
    "version": 3
   },
   "file_extension": ".py",
   "mimetype": "text/x-python",
   "name": "python",
   "nbconvert_exporter": "python",
   "pygments_lexer": "ipython3",
   "version": "3.9.13"
  }
 },
 "nbformat": 4,
 "nbformat_minor": 5
}
